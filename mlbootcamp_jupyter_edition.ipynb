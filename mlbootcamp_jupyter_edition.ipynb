{
 "cells": [
  {
   "cell_type": "code",
   "execution_count": 17,
   "metadata": {
    "collapsed": false,
    "deletable": true,
    "editable": true
   },
   "outputs": [],
   "source": [
    "import numpy as np\n",
    "import pandas as pd\n",
    "from sklearn.cross_validation import train_test_split\n",
    "%matplotlib inline\n",
    "from sklearn.ensemble import RandomForestClassifier as RandomForestClassifier\n",
    "import matplotlib.pyplot as plt\n",
    "from sklearn.metrics import accuracy_score\n",
    "from sklearn.cluster import KMeans"
   ]
  },
  {
   "cell_type": "code",
   "execution_count": 18,
   "metadata": {
    "collapsed": true,
    "deletable": true,
    "editable": true
   },
   "outputs": [],
   "source": [
    "x_test = pd.read_csv('x_test.csv',sep=';',header=None)\n",
    "x_train = pd.read_csv('x_train.csv',sep=';',header=None)\n",
    "y = pd.read_csv('y_train.csv',sep=';',header=None)\n",
    "total_X = pd.concat((x_train, x_test))"
   ]
  },
  {
   "cell_type": "code",
   "execution_count": 19,
   "metadata": {
    "collapsed": false,
    "deletable": true,
    "editable": true
   },
   "outputs": [
    {
     "name": "stdout",
     "output_type": "stream",
     "text": [
      "('Shape train', (3489, 223))\n",
      "('Shape test', (2327, 223))\n"
     ]
    }
   ],
   "source": [
    "n_rows = x_train.shape[0]\n",
    "x_train_test = np.array(total_X)\n",
    "\n",
    "x_train = x_train_test[:n_rows, :]\n",
    "x_test = x_train_test[n_rows:, :]\n",
    "print('Shape train', x_train.shape)\n",
    "print('Shape test', x_test.shape)"
   ]
  },
  {
   "cell_type": "code",
   "execution_count": 20,
   "metadata": {
    "collapsed": false,
    "deletable": true,
    "editable": true
   },
   "outputs": [
    {
     "name": "stdout",
     "output_type": "stream",
     "text": [
      "0.501035105949\n",
      "0.505772540218\n",
      "0.498628762507\n",
      "0.50046730918\n",
      "0.498351246061\n",
      "0.501195336656\n",
      "0.500724602264\n",
      "0.507278981002\n",
      "0.496736770404\n",
      "3.02828108704\n",
      "0.125498336252\n",
      "-0.00092760838033\n",
      "0.50246813534\n",
      "0.50137723652\n",
      "25.376054938\n",
      "0.499965578573\n",
      "0.498030759733\n",
      "0.471648446704\n",
      "0.495437338986\n",
      "0.499345152787\n",
      "0.50021686398\n",
      "0.488015630119\n",
      "0.495587738581\n",
      "0.498795643171\n",
      "3.00879402371\n",
      "17.316402592\n",
      "0.503717554697\n",
      "0.503250609838\n",
      "0.493776609182\n",
      "0.502409907328\n",
      "0.496593523317\n",
      "0.4958690367\n",
      "0.50951725635\n",
      "0.502594818724\n",
      "0.49842213191\n",
      "0.502543523944\n",
      "0.497149362803\n",
      "0.500822172761\n",
      "3.03938521486\n",
      "2.96297767982\n",
      "0.495084253088\n",
      "0.494148714151\n",
      "0.491154249166\n",
      "0.496786728477\n",
      "0.955082706566\n",
      "0.494510301749\n",
      "0.503840920407\n",
      "0.508066684044\n",
      "0.827057945433\n",
      "0.507662373537\n",
      "2.9987700177\n",
      "0.490587826494\n",
      "0.501787589135\n",
      "2.97324843173\n",
      "0.500295785337\n",
      "0.489610961155\n",
      "25.0006424539\n",
      "0.499037559735\n",
      "0.502204288437\n",
      "0.499818723117\n",
      "0.500206987096\n",
      "0.497663841695\n",
      "0.504730552694\n",
      "0.501455038497\n",
      "0.500179236171\n",
      "25.2547756381\n",
      "0.506212105024\n",
      "0.494682784238\n",
      "0.49522127597\n",
      "0.498625747767\n",
      "0.50177377097\n",
      "0.492477247048\n",
      "0.503314601401\n",
      "0.49953126664\n",
      "0.50441728724\n",
      "0.500799653398\n",
      "0.000578727876547\n",
      "0.502205467436\n",
      "0.489038741936\n",
      "-0.000965142778542\n",
      "25.8950292384\n",
      "0.496805309274\n",
      "0.495795557729\n",
      "0.498809034701\n",
      "0.503059631369\n",
      "0.49932572271\n",
      "0.50505687955\n",
      "0.500692750065\n",
      "0.500769417153\n",
      "0.496269816628\n",
      "0.514334353808\n",
      "0.49819738118\n",
      "0.498629866056\n",
      "0.505809056984\n",
      "0.507180408\n",
      "0.502472927299\n",
      "0.000305491282669\n",
      "-0.00263161422455\n",
      "0.488966237232\n",
      "0.501568751879\n",
      "3.01837028382\n",
      "0.486241205048\n",
      "0.502810942325\n",
      "0.502669225672\n",
      "0.498394794582\n",
      "0.506653720021\n",
      "0.495872196446\n",
      "0.499043070028\n",
      "0.494060591656\n",
      "0.4976435456\n",
      "0.504644087479\n",
      "0.495723714288\n",
      "0.490800590971\n",
      "0.497307815765\n",
      "0.496618200043\n",
      "-0.000730045077373\n",
      "0.496541999314\n",
      "0.507306952019\n",
      "0.498185987001\n",
      "0.502510343731\n",
      "0.495830466572\n",
      "0.49743513458\n",
      "0.495503166919\n",
      "0.497189135012\n",
      "0.498673232091\n",
      "0.503472433188\n",
      "0.506268975844\n",
      "0.504313947405\n",
      "0.504526208401\n",
      "0.501503581584\n",
      "0.495520048845\n",
      "0.00255784224553\n",
      "0.496147825064\n",
      "0.502145177792\n",
      "0.500475606546\n",
      "0.498517478958\n",
      "0.503510318458\n",
      "0.501938210999\n",
      "-0.000375816145117\n",
      "0.509144076008\n",
      "0.498224083556\n",
      "0.501249209324\n",
      "0.494802625836\n",
      "0.488207022383\n",
      "0.497511274453\n",
      "0.501252464443\n",
      "0.505638705026\n",
      "0.505558765122\n",
      "0.505754786699\n",
      "24.4752735452\n",
      "0.498198379931\n",
      "24.5661015024\n",
      "0.4996379974\n",
      "0.501364438129\n",
      "0.500425877754\n",
      "0.504912415793\n",
      "1.77252028886e-05\n",
      "0.498670136376\n",
      "0.491772501415\n",
      "2.99233462025\n",
      "0.498679530371\n",
      "0.497369663738\n",
      "0.498453041952\n",
      "0.499374248441\n",
      "0.499520736118\n",
      "0.503826177354\n",
      "3.01604540287\n",
      "0.502539045604\n",
      "0.49766368881\n",
      "0.498501836886\n",
      "0.502203535182\n",
      "0.498823750346\n",
      "0.502042296608\n",
      "24.6436975464\n",
      "0.49926062868\n",
      "0.496973556295\n",
      "0.497999480313\n",
      "0.499613647754\n",
      "0.498426889412\n",
      "0.501498665236\n",
      "0.503785305046\n",
      "0.499002439453\n",
      "0.000382122003095\n",
      "0.501827144618\n",
      "0.501849341431\n",
      "0.504033277275\n",
      "0.500758861248\n",
      "0.504047385313\n",
      "0.502585835253\n",
      "25.1391375612\n",
      "0.502117974025\n",
      "0.500215543313\n",
      "0.502411227792\n",
      "0.497967307087\n",
      "24.6283576946\n",
      "0.504345543848\n",
      "0.500800550781\n",
      "0.497837090944\n",
      "0.503665895616\n",
      "0.508736825248\n",
      "0.00146489081155\n",
      "0.508647237325\n",
      "3.00188118892\n",
      "25.7111084301\n",
      "0.497767399959\n",
      "0.49274304841\n",
      "0.49944152287\n",
      "0.495981581647\n",
      "0.496233163214\n",
      "0.505818415834\n",
      "0.491341329752\n",
      "0.493599691171\n",
      "0.50688286338\n",
      "0.503748276828\n",
      "0.502599335055\n",
      "0.498438736269\n",
      "0.501124748183\n",
      "0.498077104276\n",
      "0.503771635165\n",
      "0.499002390953\n",
      "0.49705295303\n",
      "0.495187361006\n",
      "0.498912285911\n"
     ]
    }
   ],
   "source": [
    "for i in xrange(223):\n",
    "    print np.mean(x_train_test[:,i])"
   ]
  },
  {
   "cell_type": "code",
   "execution_count": 21,
   "metadata": {
    "collapsed": false,
    "deletable": true,
    "editable": true
   },
   "outputs": [],
   "source": [
    "average_list = np.zeros((223,1))\n",
    "for i in xrange(223):\n",
    "    average_list[i] = np.mean(x_train_test[:,i])"
   ]
  },
  {
   "cell_type": "code",
   "execution_count": 22,
   "metadata": {
    "collapsed": false,
    "deletable": true,
    "editable": true
   },
   "outputs": [
    {
     "name": "stdout",
     "output_type": "stream",
     "text": [
      "larger  0.9    9\n",
      "smaller 0.05    11\n",
      "larger  0.9    14\n",
      "larger  0.9    24\n",
      "larger  0.9    25\n",
      "larger  0.9    38\n",
      "larger  0.9    39\n",
      "larger  0.9    44\n",
      "larger  0.9    50\n",
      "larger  0.9    53\n",
      "larger  0.9    56\n",
      "larger  0.9    65\n",
      "smaller 0.05    76\n",
      "smaller 0.05    79\n",
      "larger  0.9    80\n",
      "smaller 0.05    96\n",
      "smaller 0.05    97\n",
      "larger  0.9    100\n",
      "smaller 0.05    115\n",
      "smaller 0.05    131\n",
      "smaller 0.05    138\n",
      "larger  0.9    149\n",
      "larger  0.9    151\n",
      "smaller 0.05    156\n",
      "larger  0.9    159\n",
      "larger  0.9    166\n",
      "larger  0.9    173\n",
      "smaller 0.05    182\n",
      "larger  0.9    189\n",
      "larger  0.9    194\n",
      "smaller 0.05    200\n",
      "larger  0.9    202\n",
      "larger  0.9    203\n"
     ]
    }
   ],
   "source": [
    "too_less = []\n",
    "too_much = []\n",
    "for i in xrange(223):\n",
    "    if average_list[i]>0.9:\n",
    "        print 'larger  0.9   ',i\n",
    "        too_much.append(i)\n",
    "    if average_list[i]<0.05:\n",
    "        print 'smaller 0.05   ',i\n",
    "        too_less.append(i)"
   ]
  },
  {
   "cell_type": "code",
   "execution_count": 23,
   "metadata": {
    "collapsed": true,
    "deletable": true,
    "editable": true
   },
   "outputs": [],
   "source": [
    "x_train_test = x_train_test[:,malo]\n",
    "x_train = x_train_test[:n_rows, :]\n",
    "x_test = x_train_test[n_rows:, :]"
   ]
  },
  {
   "cell_type": "markdown",
   "metadata": {
    "deletable": true,
    "editable": true
   },
   "source": [
    "### Probability"
   ]
  },
  {
   "cell_type": "raw",
   "metadata": {
    "deletable": true,
    "editable": true
   },
   "source": [
    "cycle = 100\n",
    "c = 0\n",
    "y = pd.read_csv('y_train.csv',sep=';',header=None)\n",
    "for i in xrange(cycle):\n",
    "    rfc = RandomForestClassifier(n_estimators=np.random.randint(200,800))\n",
    "    rfc.fit(X=x_train,y=y)\n",
    "    pred = rfc.predict_proba(x_test)\n",
    "    df = pd.DataFrame(pred)\n",
    "    df.to_csv(str(i)+'test.csv',index=None,header = None)\n",
    "    c+=1\n",
    "    if c % 50 ==0:\n",
    "        print c"
   ]
  },
  {
   "cell_type": "raw",
   "metadata": {
    "deletable": true,
    "editable": true
   },
   "source": [
    "df1 = pd.read_csv('0test.csv',header=None)\n"
   ]
  },
  {
   "cell_type": "raw",
   "metadata": {
    "deletable": true,
    "editable": true
   },
   "source": [
    "for i in xrange(1,cycle):\n",
    "    df1 = df1 + pd.read_csv(str(i)+'test.csv',header=None)"
   ]
  },
  {
   "cell_type": "raw",
   "metadata": {
    "deletable": true,
    "editable": true
   },
   "source": [
    "for i in xrange(2327):\n",
    "    for j in xrange(5):\n",
    "        if df1.iloc[i][j] == np.max(df1.iloc[i]):\n",
    "            df1.iloc[i][j] = 9999\n",
    "        else:\n",
    "            df1.iloc[i][j] = 0\n",
    "for i in xrange(2327):\n",
    "    for j in xrange(5):\n",
    "        if df1.iloc[i][j] ==9999:\n",
    "            df1.iloc[i][j] = j\n",
    "        else:\n",
    "            df1.iloc[i][j] = 0\n",
    "df1['y'] = 0\n",
    "for i in xrange(2327):\n",
    "    df1.y.values[i] = np.sum(df1.iloc[i][0:5])"
   ]
  },
  {
   "cell_type": "raw",
   "metadata": {
    "deletable": true,
    "editable": true
   },
   "source": [
    "x = df1['y']\n",
    "x.to_csv('proba_rf.csv',header=None,index=None)"
   ]
  },
  {
   "cell_type": "markdown",
   "metadata": {
    "deletable": true,
    "editable": true
   },
   "source": [
    "### Classes"
   ]
  },
  {
   "cell_type": "code",
   "execution_count": 24,
   "metadata": {
    "collapsed": false,
    "deletable": true,
    "editable": true
   },
   "outputs": [
    {
     "name": "stderr",
     "output_type": "stream",
     "text": [
      "/usr/local/lib/python2.7/dist-packages/IPython/kernel/__main__.py:6: DataConversionWarning: A column-vector y was passed when a 1d array was expected. Please change the shape of y to (n_samples,), for example using ravel().\n",
      "/usr/local/lib/python2.7/dist-packages/IPython/kernel/__main__.py:6: DataConversionWarning: A column-vector y was passed when a 1d array was expected. Please change the shape of y to (n_samples,), for example using ravel().\n",
      "/usr/local/lib/python2.7/dist-packages/IPython/kernel/__main__.py:6: DataConversionWarning: A column-vector y was passed when a 1d array was expected. Please change the shape of y to (n_samples,), for example using ravel().\n",
      "/usr/local/lib/python2.7/dist-packages/IPython/kernel/__main__.py:6: DataConversionWarning: A column-vector y was passed when a 1d array was expected. Please change the shape of y to (n_samples,), for example using ravel().\n",
      "/usr/local/lib/python2.7/dist-packages/IPython/kernel/__main__.py:6: DataConversionWarning: A column-vector y was passed when a 1d array was expected. Please change the shape of y to (n_samples,), for example using ravel().\n",
      "/usr/local/lib/python2.7/dist-packages/IPython/kernel/__main__.py:6: DataConversionWarning: A column-vector y was passed when a 1d array was expected. Please change the shape of y to (n_samples,), for example using ravel().\n",
      "/usr/local/lib/python2.7/dist-packages/IPython/kernel/__main__.py:6: DataConversionWarning: A column-vector y was passed when a 1d array was expected. Please change the shape of y to (n_samples,), for example using ravel().\n",
      "/usr/local/lib/python2.7/dist-packages/IPython/kernel/__main__.py:6: DataConversionWarning: A column-vector y was passed when a 1d array was expected. Please change the shape of y to (n_samples,), for example using ravel().\n",
      "/usr/local/lib/python2.7/dist-packages/IPython/kernel/__main__.py:6: DataConversionWarning: A column-vector y was passed when a 1d array was expected. Please change the shape of y to (n_samples,), for example using ravel().\n",
      "/usr/local/lib/python2.7/dist-packages/IPython/kernel/__main__.py:6: DataConversionWarning: A column-vector y was passed when a 1d array was expected. Please change the shape of y to (n_samples,), for example using ravel().\n"
     ]
    },
    {
     "name": "stdout",
     "output_type": "stream",
     "text": [
      "10\n"
     ]
    },
    {
     "name": "stderr",
     "output_type": "stream",
     "text": [
      "/usr/local/lib/python2.7/dist-packages/IPython/kernel/__main__.py:6: DataConversionWarning: A column-vector y was passed when a 1d array was expected. Please change the shape of y to (n_samples,), for example using ravel().\n",
      "/usr/local/lib/python2.7/dist-packages/IPython/kernel/__main__.py:6: DataConversionWarning: A column-vector y was passed when a 1d array was expected. Please change the shape of y to (n_samples,), for example using ravel().\n",
      "/usr/local/lib/python2.7/dist-packages/IPython/kernel/__main__.py:6: DataConversionWarning: A column-vector y was passed when a 1d array was expected. Please change the shape of y to (n_samples,), for example using ravel().\n",
      "/usr/local/lib/python2.7/dist-packages/IPython/kernel/__main__.py:6: DataConversionWarning: A column-vector y was passed when a 1d array was expected. Please change the shape of y to (n_samples,), for example using ravel().\n",
      "/usr/local/lib/python2.7/dist-packages/IPython/kernel/__main__.py:6: DataConversionWarning: A column-vector y was passed when a 1d array was expected. Please change the shape of y to (n_samples,), for example using ravel().\n",
      "/usr/local/lib/python2.7/dist-packages/IPython/kernel/__main__.py:6: DataConversionWarning: A column-vector y was passed when a 1d array was expected. Please change the shape of y to (n_samples,), for example using ravel().\n",
      "/usr/local/lib/python2.7/dist-packages/IPython/kernel/__main__.py:6: DataConversionWarning: A column-vector y was passed when a 1d array was expected. Please change the shape of y to (n_samples,), for example using ravel().\n",
      "/usr/local/lib/python2.7/dist-packages/IPython/kernel/__main__.py:6: DataConversionWarning: A column-vector y was passed when a 1d array was expected. Please change the shape of y to (n_samples,), for example using ravel().\n",
      "/usr/local/lib/python2.7/dist-packages/IPython/kernel/__main__.py:6: DataConversionWarning: A column-vector y was passed when a 1d array was expected. Please change the shape of y to (n_samples,), for example using ravel().\n",
      "/usr/local/lib/python2.7/dist-packages/IPython/kernel/__main__.py:6: DataConversionWarning: A column-vector y was passed when a 1d array was expected. Please change the shape of y to (n_samples,), for example using ravel().\n"
     ]
    },
    {
     "name": "stdout",
     "output_type": "stream",
     "text": [
      "20\n"
     ]
    }
   ],
   "source": [
    "cycle = 20\n",
    "c = 0\n",
    "y = pd.read_csv('y_train.csv',sep=';',header=None)\n",
    "for i in xrange(cycle):\n",
    "    rfc = RandomForestClassifier(n_estimators=np.random.randint(200,800))\n",
    "    rfc.fit(X=x_train,y=y)\n",
    "    pred = rfc.predict(x_test)\n",
    "    df = pd.DataFrame(pred)\n",
    "    df.to_csv(str(i)+'test.csv',index=None,header = None)\n",
    "    c+=1\n",
    "    if c % 10 ==0:\n",
    "        print c"
   ]
  },
  {
   "cell_type": "code",
   "execution_count": 25,
   "metadata": {
    "collapsed": true,
    "deletable": true,
    "editable": true
   },
   "outputs": [],
   "source": [
    "df1 = pd.read_csv('0test.csv',header=None)\n",
    "for i in xrange(1,cycle):\n",
    "    df1 = pd.concat((df1,pd.read_csv(str(i)+'test.csv',header=None)),axis = 1)\n",
    "from scipy.stats import mode\n",
    "\n",
    "merg = df1\n",
    "predict = np.zeros((2327))\n",
    "predict_mean = np.zeros((2327))\n",
    "\n",
    "for i in xrange(len(merg)):\n",
    "    predict[i] = mode(merg.ix[i,:]).mode\n",
    "    predict_mean[i] = round(np.mean(merg.ix[i,:]))\n",
    "    \n",
    "predict = pd.DataFrame(predict)\n",
    "predict.to_csv('final'+str(cycle)+'.csv',index=None,header = None)\n"
   ]
  }
 ],
 "metadata": {
  "kernelspec": {
   "display_name": "Python 2",
   "language": "python",
   "name": "python2"
  },
  "language_info": {
   "codemirror_mode": {
    "name": "ipython",
    "version": 2
   },
   "file_extension": ".py",
   "mimetype": "text/x-python",
   "name": "python",
   "nbconvert_exporter": "python",
   "pygments_lexer": "ipython2",
   "version": "2.7.3"
  }
 },
 "nbformat": 4,
 "nbformat_minor": 2
}
